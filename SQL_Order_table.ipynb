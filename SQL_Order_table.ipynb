{
 "cells": [
  {
   "cell_type": "markdown",
   "id": "fc6c480b-e17a-4396-ae47-9bec6473657b",
   "metadata": {},
   "source": [
    "**Initializing Spark**"
   ]
  },
  {
   "cell_type": "code",
   "execution_count": 53,
   "id": "e6aebcd2-6db8-4219-bd65-3a7c49fcff4a",
   "metadata": {},
   "outputs": [],
   "source": [
    "from pyspark.sql import SparkSession"
   ]
  },
  {
   "cell_type": "code",
   "execution_count": 54,
   "id": "46688c11-e583-4ef7-8bf7-d00da882e0f1",
   "metadata": {},
   "outputs": [],
   "source": [
    "spark = SparkSession.builder.getOrCreate()"
   ]
  },
  {
   "cell_type": "markdown",
   "id": "c86300b8-9ff0-4b30-a713-d1ade7bd1851",
   "metadata": {},
   "source": [
    "**Praject start Timestamp**"
   ]
  },
  {
   "cell_type": "code",
   "execution_count": 63,
   "id": "5cfb2471-3f5e-4206-8c5d-7c3f3592e490",
   "metadata": {},
   "outputs": [
    {
     "name": "stdout",
     "output_type": "stream",
     "text": [
      "2022-01-20 10:47:23\n"
     ]
    }
   ],
   "source": [
    "import datetime,time\n",
    "print(datetime.datetime.fromtimestamp(time.time()).strftime('%Y-%m-%d %H:%M:%S'))"
   ]
  },
  {
   "cell_type": "code",
   "execution_count": 64,
   "id": "435e02f9-0efa-4eee-bafe-a73bdb195927",
   "metadata": {},
   "outputs": [],
   "source": [
    "order_details_data = [(10248,11,14,12 ),\n",
    "(10248,42,9,10  ),\n",
    "(10248,72,34,5  ),\n",
    "(10249,14,18,9  ),\n",
    "(10249,51,42,40 ),\n",
    "(10253,31,10,20 ),\n",
    "(10253,39,14,42 ),\n",
    "(10253,49,16,40 ),\n",
    "(10274,71,17,20 ),\n",
    "(10274,72,27,7  ),\n",
    "(10275,24,3,12  ),\n",
    "(10275,59,44,6  ),\n",
    "(10296,11,16,12 ),\n",
    "(10296,16,13,30 ),\n",
    "(10296,69,28,15 ) ]\n"
   ]
  },
  {
   "cell_type": "code",
   "execution_count": 65,
   "id": "d0b19115-ca5b-459f-aea3-a256f4a268f4",
   "metadata": {},
   "outputs": [],
   "source": [
    "orders_data = [(10248,3,'1996-07-04'),\n",
    "(10249,1,'1996-07-05'),\n",
    "(10253,2,'1996-07-10'),\n",
    "(10274,3,'1996-08-06'),\n",
    "(10275,4,'1996-08-07'),\n",
    "(10296,5,'1996-09-03')]"
   ]
  },
  {
   "cell_type": "markdown",
   "id": "ecdd1e5a-4271-4bd8-a10e-5943bc6f1dc4",
   "metadata": {},
   "source": [
    "**Creating Order and order_details dataframe**"
   ]
  },
  {
   "cell_type": "code",
   "execution_count": 66,
   "id": "b55c5fbc-21e1-42dc-9f24-ddb1d01719b2",
   "metadata": {},
   "outputs": [],
   "source": [
    "order_details_df = spark.createDataFrame(order_details_data,['orderid','productid','unitprice','quantity' ] )"
   ]
  },
  {
   "cell_type": "code",
   "execution_count": 67,
   "id": "14fb2931-c644-4872-a01d-36e6fd7f60e8",
   "metadata": {},
   "outputs": [],
   "source": [
    "orders_df = spark.createDataFrame(orders_data,['orderid','customerid','orderdate' ] )"
   ]
  },
  {
   "cell_type": "markdown",
   "id": "15c6db1a-e45c-4d0f-ab67-a5953498d2ec",
   "metadata": {},
   "source": [
    "**Creating views**"
   ]
  },
  {
   "cell_type": "code",
   "execution_count": 68,
   "id": "ce0497d7-be9a-45ba-98ef-ad2d7e95d0d8",
   "metadata": {},
   "outputs": [],
   "source": [
    "order_details_df.createOrReplaceTempView(\"order_details\")\n",
    "orders_df.createOrReplaceTempView(\"orders\")"
   ]
  },
  {
   "cell_type": "code",
   "execution_count": null,
   "id": "a4be5b46-4abb-4308-b7f2-2023d58c4753",
   "metadata": {},
   "outputs": [],
   "source": []
  },
  {
   "cell_type": "code",
   "execution_count": 69,
   "id": "8bd4c887-fbcc-4fce-8b42-edd7bf3893dd",
   "metadata": {},
   "outputs": [
    {
     "name": "stdout",
     "output_type": "stream",
     "text": [
      "+----+-----+----------+-------------------------+\n",
      "|year|month|customerid|total_monthly_order_value|\n",
      "+----+-----+----------+-------------------------+\n",
      "|1996|    7|         1|                     1842|\n",
      "|1996|    8|         3|                      529|\n",
      "|1996|    9|         5|                     1002|\n",
      "+----+-----+----------+-------------------------+\n",
      "\n"
     ]
    }
   ],
   "source": [
    "spark.sql(\"\"\"\n",
    "\n",
    "select year,month,customerid,total_monthly_order_value from (\n",
    "select year,month,customerid,total_monthly_order_value,\n",
    "row_number() over (partition by year,month order by total_monthly_order_value desc ) as rn\n",
    "\n",
    "from (\n",
    "select customerid,year,month,sum(order_value) as total_monthly_order_value\n",
    "from \n",
    "(\n",
    "select year(orderdate) as year,month(orderdate) as month,\n",
    "unitprice*quantity as order_value,*\n",
    "from orders inner join order_details \n",
    "on orders.orderid=order_details.orderid\n",
    ")\n",
    "group by 1,2,3 \n",
    ")\n",
    ") where rn=1 order by year,month asc\n",
    "\"\"\").show()"
   ]
  },
  {
   "cell_type": "markdown",
   "id": "5ba3442b-9852-45c8-a507-2944a253b458",
   "metadata": {},
   "source": [
    "**Project End Timestamp**"
   ]
  },
  {
   "cell_type": "code",
   "execution_count": 70,
   "id": "3296e559-4bc9-4f45-b329-0011c3253685",
   "metadata": {},
   "outputs": [
    {
     "name": "stdout",
     "output_type": "stream",
     "text": [
      "2022-01-20 10:47:36\n"
     ]
    }
   ],
   "source": [
    "import datetime\n",
    "print(datetime.datetime.fromtimestamp(time.time()).strftime('%Y-%m-%d %H:%M:%S'))"
   ]
  }
 ],
 "metadata": {
  "kernelspec": {
   "display_name": "Python 3 (ipykernel)",
   "language": "python",
   "name": "python3"
  },
  "language_info": {
   "codemirror_mode": {
    "name": "ipython",
    "version": 3
   },
   "file_extension": ".py",
   "mimetype": "text/x-python",
   "name": "python",
   "nbconvert_exporter": "python",
   "pygments_lexer": "ipython3",
   "version": "3.9.7"
  }
 },
 "nbformat": 4,
 "nbformat_minor": 5
}
